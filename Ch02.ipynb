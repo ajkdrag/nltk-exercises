{
 "cells": [
  {
   "cell_type": "code",
   "execution_count": 41,
   "id": "348bebca",
   "metadata": {},
   "outputs": [],
   "source": [
    "import nltk\n",
    "import matplotlib.pyplot as plt"
   ]
  },
  {
   "cell_type": "markdown",
   "id": "8532378f",
   "metadata": {},
   "source": [
    "## Ex1"
   ]
  },
  {
   "cell_type": "code",
   "execution_count": 7,
   "id": "064971df",
   "metadata": {},
   "outputs": [],
   "source": [
    "phrase = [\"ab\", \"bc\", \"abc\", \"bcd\"]"
   ]
  },
  {
   "cell_type": "code",
   "execution_count": 8,
   "id": "f4f4b793",
   "metadata": {},
   "outputs": [
    {
     "data": {
      "text/plain": [
       "['ab', 'bc', 'abc', 'bcd', 'ab', 'bc', 'abc', 'bcd']"
      ]
     },
     "execution_count": 8,
     "metadata": {},
     "output_type": "execute_result"
    }
   ],
   "source": [
    "phrase + phrase"
   ]
  },
  {
   "cell_type": "code",
   "execution_count": 9,
   "id": "da961d7b",
   "metadata": {},
   "outputs": [
    {
     "data": {
      "text/plain": [
       "['abc', 'bcd']"
      ]
     },
     "execution_count": 9,
     "metadata": {},
     "output_type": "execute_result"
    }
   ],
   "source": [
    "phrase[2:]"
   ]
  },
  {
   "cell_type": "code",
   "execution_count": 10,
   "id": "e03cae9a",
   "metadata": {},
   "outputs": [
    {
     "data": {
      "text/plain": [
       "['ab', 'bc', 'abc', 'bcd', 'ab', 'bc', 'abc', 'bcd', 'ab', 'bc', 'abc', 'bcd']"
      ]
     },
     "execution_count": 10,
     "metadata": {},
     "output_type": "execute_result"
    }
   ],
   "source": [
    "phrase * 3"
   ]
  },
  {
   "cell_type": "code",
   "execution_count": 11,
   "id": "72388be0",
   "metadata": {},
   "outputs": [
    {
     "data": {
      "text/plain": [
       "['ab', 'abc', 'bc', 'bcd']"
      ]
     },
     "execution_count": 11,
     "metadata": {},
     "output_type": "execute_result"
    }
   ],
   "source": [
    "sorted(phrase)"
   ]
  },
  {
   "cell_type": "markdown",
   "id": "7a7f9a88",
   "metadata": {},
   "source": [
    "## Ex2"
   ]
  },
  {
   "cell_type": "code",
   "execution_count": 3,
   "id": "92bf4e9c",
   "metadata": {},
   "outputs": [
    {
     "data": {
      "text/plain": [
       "['austen-emma.txt',\n",
       " 'austen-persuasion.txt',\n",
       " 'austen-sense.txt',\n",
       " 'bible-kjv.txt',\n",
       " 'blake-poems.txt',\n",
       " 'bryant-stories.txt',\n",
       " 'burgess-busterbrown.txt',\n",
       " 'carroll-alice.txt',\n",
       " 'chesterton-ball.txt',\n",
       " 'chesterton-brown.txt',\n",
       " 'chesterton-thursday.txt',\n",
       " 'edgeworth-parents.txt',\n",
       " 'melville-moby_dick.txt',\n",
       " 'milton-paradise.txt',\n",
       " 'shakespeare-caesar.txt',\n",
       " 'shakespeare-hamlet.txt',\n",
       " 'shakespeare-macbeth.txt',\n",
       " 'whitman-leaves.txt']"
      ]
     },
     "execution_count": 3,
     "metadata": {},
     "output_type": "execute_result"
    }
   ],
   "source": [
    "nltk.corpus.gutenberg.fileids()"
   ]
  },
  {
   "cell_type": "code",
   "execution_count": 4,
   "id": "e05acf23",
   "metadata": {},
   "outputs": [],
   "source": [
    "austen_words = nltk.corpus.gutenberg.words(\"austen-persuasion.txt\")"
   ]
  },
  {
   "cell_type": "code",
   "execution_count": 5,
   "id": "c0b76c4a",
   "metadata": {},
   "outputs": [
    {
     "data": {
      "text/plain": [
       "98171"
      ]
     },
     "execution_count": 5,
     "metadata": {},
     "output_type": "execute_result"
    }
   ],
   "source": [
    "len(austen_words)"
   ]
  },
  {
   "cell_type": "code",
   "execution_count": 6,
   "id": "bdaf812a",
   "metadata": {},
   "outputs": [
    {
     "data": {
      "text/plain": [
       "6132"
      ]
     },
     "execution_count": 6,
     "metadata": {},
     "output_type": "execute_result"
    }
   ],
   "source": [
    "len(set(austen_words))"
   ]
  },
  {
   "cell_type": "markdown",
   "id": "f6c48e49",
   "metadata": {},
   "source": [
    "## Ex3"
   ]
  },
  {
   "cell_type": "code",
   "execution_count": 13,
   "id": "a1bc11ff",
   "metadata": {},
   "outputs": [
    {
     "data": {
      "text/plain": [
       "['adventure',\n",
       " 'belles_lettres',\n",
       " 'editorial',\n",
       " 'fiction',\n",
       " 'government',\n",
       " 'hobbies',\n",
       " 'humor',\n",
       " 'learned',\n",
       " 'lore',\n",
       " 'mystery',\n",
       " 'news',\n",
       " 'religion',\n",
       " 'reviews',\n",
       " 'romance',\n",
       " 'science_fiction']"
      ]
     },
     "execution_count": 13,
     "metadata": {},
     "output_type": "execute_result"
    }
   ],
   "source": [
    "nltk.corpus.brown.categories()"
   ]
  },
  {
   "cell_type": "code",
   "execution_count": 22,
   "id": "56e6bdc6",
   "metadata": {},
   "outputs": [
    {
     "data": {
      "text/plain": [
       "['Thirty-three', 'Scotty', 'did', 'not', 'go', 'back', ...]"
      ]
     },
     "execution_count": 22,
     "metadata": {},
     "output_type": "execute_result"
    }
   ],
   "source": [
    "nltk.corpus.brown.words(categories=[\"adventure\", \"fiction\"])"
   ]
  },
  {
   "cell_type": "markdown",
   "id": "228ac74e",
   "metadata": {},
   "source": [
    "## Ex4"
   ]
  },
  {
   "cell_type": "code",
   "execution_count": 24,
   "id": "3203ad64",
   "metadata": {},
   "outputs": [],
   "source": [
    "state_union_texts = nltk.corpus.state_union.fileids()"
   ]
  },
  {
   "cell_type": "code",
   "execution_count": 25,
   "id": "e86a3330",
   "metadata": {},
   "outputs": [
    {
     "data": {
      "text/plain": [
       "65"
      ]
     },
     "execution_count": 25,
     "metadata": {},
     "output_type": "execute_result"
    }
   ],
   "source": [
    "len(state_union_texts)"
   ]
  },
  {
   "cell_type": "code",
   "execution_count": 26,
   "id": "5b9e99b3",
   "metadata": {},
   "outputs": [],
   "source": [
    "target_words = {\"men\", \"women\", \"people\"}"
   ]
  },
  {
   "cell_type": "code",
   "execution_count": 36,
   "id": "69b3bad0",
   "metadata": {},
   "outputs": [
    {
     "name": "stdout",
     "output_type": "stream",
     "text": [
      "FreqDist({'people': 10, 'men': 2, 'women': 2})\n",
      "FreqDist({'people': 49, 'men': 12, 'women': 7})\n",
      "FreqDist({'people': 12, 'men': 7, 'women': 2})\n",
      "FreqDist({'people': 22, 'men': 4, 'women': 1})\n",
      "FreqDist({'people': 15, 'men': 2, 'women': 1})\n",
      "FreqDist({'people': 15, 'men': 6, 'women': 2})\n",
      "FreqDist({'people': 9, 'men': 8, 'women': 2})\n",
      "FreqDist({'people': 17, 'men': 3})\n",
      "FreqDist({'people': 15, 'men': 2})\n",
      "FreqDist({'people': 26, 'men': 4})\n",
      "FreqDist({'people': 30, 'men': 2, 'women': 2})\n",
      "FreqDist({'people': 11, 'men': 5, 'women': 2})\n",
      "FreqDist({'people': 19, 'men': 2, 'women': 1})\n",
      "FreqDist({'people': 11, 'men': 4, 'women': 1})\n",
      "FreqDist({'people': 10, 'men': 2})\n",
      "FreqDist({'people': 10, 'men': 6})\n",
      "FreqDist({'people': 10, 'men': 6, 'women': 2})\n",
      "FreqDist({'people': 3})\n",
      "FreqDist({'people': 12, 'men': 8, 'women': 5})\n",
      "FreqDist({'people': 3, 'men': 3, 'women': 1})\n",
      "FreqDist({'people': 16, 'men': 7})\n",
      "FreqDist({'people': 14, 'men': 11, 'women': 3})\n",
      "FreqDist({'people': 35, 'men': 12, 'women': 1})\n",
      "FreqDist({'people': 25, 'men': 11, 'women': 1})\n",
      "FreqDist({'people': 17, 'men': 4})\n",
      "FreqDist({'people': 6, 'men': 5, 'women': 2})\n",
      "FreqDist({'people': 23, 'men': 2})\n",
      "FreqDist({'people': 31, 'men': 1})\n",
      "FreqDist({'people': 7, 'men': 1})\n",
      "FreqDist({'people': 9})\n",
      "FreqDist({'people': 19})\n",
      "FreqDist({'people': 13})\n",
      "FreqDist({'people': 18, 'men': 3, 'women': 1})\n",
      "FreqDist({'people': 17, 'men': 2, 'women': 1})\n",
      "FreqDist({'people': 26, 'women': 1})\n",
      "FreqDist({'people': 15, 'women': 1})\n",
      "FreqDist({'people': 11, 'women': 2, 'men': 1})\n",
      "FreqDist({'people': 11, 'men': 1, 'women': 1})\n",
      "FreqDist({'people': 17, 'women': 1, 'men': 1})\n",
      "FreqDist({'people': 19, 'women': 7, 'men': 3})\n",
      "FreqDist({'people': 23, 'women': 5, 'men': 3})\n",
      "FreqDist({'people': 12, 'men': 1, 'women': 1})\n",
      "FreqDist({'people': 14, 'men': 2, 'women': 2})\n",
      "FreqDist({'people': 24, 'men': 1})\n",
      "FreqDist({'people': 16, 'men': 1})\n",
      "FreqDist({'people': 13, 'women': 3, 'men': 2})\n",
      "FreqDist({'people': 9, 'men': 3, 'women': 2})\n",
      "FreqDist({'people': 13, 'men': 2, 'women': 2})\n",
      "FreqDist({'people': 13, 'men': 7, 'women': 7})\n",
      "FreqDist({'people': 26, 'men': 4, 'women': 4})\n",
      "FreqDist({'people': 45, 'women': 2, 'men': 1})\n",
      "FreqDist({'people': 63, 'women': 1, 'men': 1})\n",
      "FreqDist({'people': 73, 'women': 3, 'men': 1})\n",
      "FreqDist({'people': 40, 'women': 3, 'men': 2})\n",
      "FreqDist({'people': 30, 'women': 2, 'men': 1})\n",
      "FreqDist({'people': 22, 'men': 2, 'women': 2})\n",
      "FreqDist({'people': 22, 'women': 3, 'men': 2})\n",
      "FreqDist({'people': 41, 'women': 6, 'men': 5})\n",
      "FreqDist({'people': 14, 'men': 3, 'women': 3})\n",
      "FreqDist({'people': 12, 'women': 2, 'men': 1})\n",
      "FreqDist({'people': 14, 'women': 5, 'men': 3})\n",
      "FreqDist({'people': 33, 'men': 6, 'women': 4})\n",
      "FreqDist({'people': 21, 'women': 8, 'men': 6})\n",
      "FreqDist({'people': 18, 'women': 11, 'men': 8})\n",
      "FreqDist({'people': 22, 'women': 7, 'men': 7})\n"
     ]
    }
   ],
   "source": [
    "for text in state_union_texts:\n",
    "    words = nltk.corpus.state_union.words(text)\n",
    "    curated_words = [w for w in words if w in target_words]\n",
    "    fdist = nltk.FreqDist(curated_words)\n",
    "    fdist.pprint()"
   ]
  },
  {
   "cell_type": "code",
   "execution_count": 43,
   "id": "d463add6",
   "metadata": {},
   "outputs": [],
   "source": [
    "# need a conditional freq dist to evaluate changes over time\n",
    "expr = ((w, fileid[:4])\n",
    "         for fileid in state_union_texts\n",
    "         for w in nltk.corpus.state_union.words(fileid)\n",
    "         if w in target_words)\n",
    "\n",
    "cfd = nltk.ConditionalFreqDist(expr)"
   ]
  },
  {
   "cell_type": "code",
   "execution_count": 50,
   "id": "d048f068",
   "metadata": {},
   "outputs": [
    {
     "data": {
      "image/png": "[encoded data removed]",
      "text/plain": [
       "<Figure size 1500x500 with 1 Axes>"
      ]
     },
     "metadata": {},
     "output_type": "display_data"
    }
   ],
   "source": [
    "plt.figure(figsize=(15, 5))\n",
    "cfd.plot();"
   ]
  },
  {
   "cell_type": "markdown",
   "id": "7614c37d",
   "metadata": {},
   "source": [
    "## Ex5"
   ]
  },
  {
   "cell_type": "code",
   "execution_count": 53,
   "id": "f15a7646",
   "metadata": {},
   "outputs": [],
   "source": [
    "from nltk.corpus import wordnet as wn"
   ]
  },
  {
   "cell_type": "code",
   "execution_count": 58,
   "id": "3ffae971",
   "metadata": {},
   "outputs": [
    {
     "name": "stderr",
     "output_type": "stream",
     "text": [
      "[nltk_data] Downloading package omw-1.4 to /root/nltk_data...\n"
     ]
    },
    {
     "data": {
      "text/plain": [
       "True"
      ]
     },
     "execution_count": 58,
     "metadata": {},
     "output_type": "execute_result"
    }
   ],
   "source": [
    "nltk.download('omw-1.4')"
   ]
  },
  {
   "cell_type": "code",
   "execution_count": 61,
   "id": "8a735c4a",
   "metadata": {},
   "outputs": [],
   "source": [
    "noun = \"tree\""
   ]
  },
  {
   "cell_type": "code",
   "execution_count": 62,
   "id": "dfff0d2a",
   "metadata": {},
   "outputs": [
    {
     "data": {
      "text/plain": [
       "[Synset('tree.n.01'),\n",
       " Synset('tree.n.02'),\n",
       " Synset('tree.n.03'),\n",
       " Synset('corner.v.02'),\n",
       " Synset('tree.v.02'),\n",
       " Synset('tree.v.03'),\n",
       " Synset('tree.v.04')]"
      ]
     },
     "execution_count": 62,
     "metadata": {},
     "output_type": "execute_result"
    }
   ],
   "source": [
    "wn.synsets(noun)"
   ]
  },
  {
   "cell_type": "code",
   "execution_count": 65,
   "id": "b71a05b5",
   "metadata": {},
   "outputs": [],
   "source": [
    "noun_synset = wn.synsets(noun)[0]"
   ]
  },
  {
   "cell_type": "code",
   "execution_count": 68,
   "id": "ba2573c7",
   "metadata": {},
   "outputs": [
    {
     "name": "stdout",
     "output_type": "stream",
     "text": [
      "member []\n",
      "part [Synset('burl.n.02'), Synset('crown.n.07'), Synset('limb.n.02'), Synset('stump.n.01'), Synset('trunk.n.01')]\n",
      "substance [Synset('heartwood.n.01'), Synset('sapwood.n.01')]\n"
     ]
    }
   ],
   "source": [
    "print(\"member\", noun_synset.member_meronyms())\n",
    "print(\"part\", noun_synset.part_meronyms())\n",
    "print(\"substance\", noun_synset.substance_meronyms())"
   ]
  },
  {
   "cell_type": "code",
   "execution_count": 70,
   "id": "408c1086",
   "metadata": {},
   "outputs": [
    {
     "name": "stdout",
     "output_type": "stream",
     "text": [
      "member [Synset('forest.n.01')]\n",
      "part []\n",
      "substance []\n"
     ]
    }
   ],
   "source": [
    "print(\"member\", noun_synset.member_holonyms())\n",
    "print(\"part\", noun_synset.part_holonyms())\n",
    "print(\"substance\", noun_synset.substance_holonyms())"
   ]
  },
  {
   "cell_type": "markdown",
   "id": "b61d11ba",
   "metadata": {},
   "source": [
    "## Ex 6"
   ]
  },
  {
   "cell_type": "code",
   "execution_count": 71,
   "id": "b52f3fa6",
   "metadata": {},
   "outputs": [],
   "source": [
    "from nltk.corpus import swadesh"
   ]
  },
  {
   "cell_type": "code",
   "execution_count": 95,
   "id": "5abd355b",
   "metadata": {},
   "outputs": [],
   "source": [
    "it2en = swadesh.entries(['it', 'en'])"
   ]
  },
  {
   "cell_type": "code",
   "execution_count": 96,
   "id": "f7c9043e",
   "metadata": {},
   "outputs": [],
   "source": [
    "es2en = swadesh.entries(['es', 'en'])"
   ]
  },
  {
   "cell_type": "code",
   "execution_count": 105,
   "id": "ef3e1586",
   "metadata": {},
   "outputs": [],
   "source": [
    "translate = dict(it2en)"
   ]
  },
  {
   "cell_type": "code",
   "execution_count": 106,
   "id": "db600a92",
   "metadata": {},
   "outputs": [],
   "source": [
    "translate.update(dict(es2en))"
   ]
  },
  {
   "cell_type": "code",
   "execution_count": 101,
   "id": "fec73956",
   "metadata": {},
   "outputs": [],
   "source": [
    "from itertools import product"
   ]
  },
  {
   "cell_type": "code",
   "execution_count": 104,
   "id": "93658a28",
   "metadata": {},
   "outputs": [
    {
     "name": "stdout",
     "output_type": "stream",
     "text": [
      "('largo', 'wide') ('largo', 'long')\n"
     ]
    }
   ],
   "source": [
    "for a, b in product(it2en, es2en):\n",
    "    if a[0] == b[0] and a[1] != b[1]:\n",
    "        print(a, b)"
   ]
  },
  {
   "cell_type": "code",
   "execution_count": 107,
   "id": "f9d439dd",
   "metadata": {},
   "outputs": [
    {
     "data": {
      "text/plain": [
       "'long'"
      ]
     },
     "execution_count": 107,
     "metadata": {},
     "output_type": "execute_result"
    }
   ],
   "source": [
    "translate[\"largo\"]"
   ]
  },
  {
   "cell_type": "markdown",
   "id": "4ccf8324",
   "metadata": {},
   "source": [
    "i.e. words spelled the same in 2 different languages mean different."
   ]
  },
  {
   "cell_type": "markdown",
   "id": "c2fa562f",
   "metadata": {},
   "source": [
    "Solution will be to have the `translate` dictionary keys have a lang. prefix/suffix"
   ]
  },
  {
   "cell_type": "code",
   "execution_count": 109,
   "id": "89c626c5",
   "metadata": {},
   "outputs": [],
   "source": [
    "translate = {f\"{k}-it\": v for k, v in it2en}"
   ]
  },
  {
   "cell_type": "code",
   "execution_count": 110,
   "id": "77e58405",
   "metadata": {},
   "outputs": [],
   "source": [
    "translate.update({f\"{k}-es\": v for k, v in es2en})"
   ]
  },
  {
   "cell_type": "code",
   "execution_count": 114,
   "id": "6fe09481",
   "metadata": {},
   "outputs": [
    {
     "data": {
      "text/plain": [
       "('wide', 'long')"
      ]
     },
     "execution_count": 114,
     "metadata": {},
     "output_type": "execute_result"
    }
   ],
   "source": [
    "translate[\"largo-it\"], translate[\"largo-es\"]"
   ]
  },
  {
   "cell_type": "markdown",
   "id": "b3359a3a",
   "metadata": {},
   "source": [
    "## Ex 7"
   ]
  },
  {
   "cell_type": "code",
   "execution_count": 118,
   "id": "32269d2a",
   "metadata": {},
   "outputs": [],
   "source": [
    "brown = nltk.corpus.brown.sents()"
   ]
  },
  {
   "cell_type": "code",
   "execution_count": 126,
   "id": "92bf7f23",
   "metadata": {},
   "outputs": [],
   "source": [
    "brown_texts = nltk.TextCollection(brown)"
   ]
  },
  {
   "cell_type": "code",
   "execution_count": 129,
   "id": "66d161cd",
   "metadata": {},
   "outputs": [
    {
     "name": "stdout",
     "output_type": "stream",
     "text": [
      "Displaying 25 of 552 matches:\n",
      "th governments '' . Merger proposed However , the jury said it believes `` thes\n",
      "ment source told The Constitution , however , that Vandiver has not been consul\n",
      " to the election was not so quiet , however . It was marked by controversy , an\n",
      " . ( Some SEATO nations disagreed , however . ) There was the further complicat\n",
      "icans . The Democratic leadership , however , hopes to pass it sometime this we\n",
      "minor editing and clarification ; ; however , the first belief stood for entire\n",
      " your timing gets off '' . Moritz , however , kicks only about 10 or 12 extra p\n",
      " or pro-Yankee . The record books , however , would favor the Giants' ace . In \n",
      " Van Brocklin's aerials . Skorich , however , is a strong advocate of a balance\n",
      "standpoint of the army of duffers , however , this was easily the most hearteni\n",
      "at stroke . Until a few weeks ago , however , Arnold Palmer was some god-like c\n",
      "ainst teams in the other division . However , this would require a lengthening \n",
      "ro Beach , Fla. , for the wedding . However , Mr. Parichy and his bride will go\n",
      "ts club . It won't be a `` tea '' , however , but more of an international folk\n",
      "heir meetings . Dr. Jenkins notes , however , that most of the school boards in\n",
      "atomic submarine . Its power unit , however , was derived from the reactor of t\n",
      " admitted killing Mrs. Hengesbach . However , the confession , which was the on\n",
      "on . An Emory spokesman indicated , however , that the university itself did no\n",
      "hat it was not in the Friday mail . However , three of the managers did say tha\n",
      " . Several theater operators said , however , that there is little likelihood o\n",
      "y allotment had yet been received , however . Board oks pact The commission , m\n",
      "14 per cent over February's 2,963 . However , compared with March 1960 new car \n",
      "fore the American Marketing Assn. . However , Peterson , president of Bell & Ho\n",
      "l sections are showing an upswing , however ; ; the drought-seared North Centra\n",
      "a plan of liquidation . Louisiana , however , collected an income tax on the pr\n"
     ]
    }
   ],
   "source": [
    "brown_texts.concordance(\"However\")"
   ]
  },
  {
   "cell_type": "code",
   "execution_count": 130,
   "id": "110e36ce",
   "metadata": {},
   "outputs": [],
   "source": [
    "gutenberg = nltk.corpus.gutenberg.sents()"
   ]
  },
  {
   "cell_type": "code",
   "execution_count": 131,
   "id": "7ea5e15f",
   "metadata": {},
   "outputs": [],
   "source": [
    "gutenberg_texts = nltk.TextCollection(gutenberg)"
   ]
  },
  {
   "cell_type": "code",
   "execution_count": 132,
   "id": "4c8ea266",
   "metadata": {},
   "outputs": [
    {
     "name": "stdout",
     "output_type": "stream",
     "text": [
      "Displaying 25 of 673 matches:\n",
      " her many enjoyments . The danger , however , was at present so unperceived , t\n",
      "ion would offend . Miss Churchill , however , being of age , and with the full \n",
      "n . From the expense of the child , however , he was soon relieved . The boy ha\n",
      " -- and been very well brought up . However , I do not mean to set up my opinio\n",
      "f and predict . It was not likely , however , that any body should have equalle\n",
      "to be borne . We will not despair , however . Weston may grow cross from the wa\n",
      "is so very handsome and agreeable . However , I do really think Mr . Martin a v\n",
      " accepted after all . This letter , however , was written , and sealed , and se\n",
      "e him .\" \" And if I did , ( which , however , I am far from allowing ) I should\n",
      " slightingly . Waiving that point , however , and supposing her to be , as you \n",
      "e was not so materially cast down , however , but that a little time and the re\n",
      "ld inspire him .\" The very next day however produced some proof of inspiration \n",
      "and staid to look through herself ; however , she called me back presently , an\n",
      "t turn up . His ostensible reason , however , was to ask whether Mr . Woodhouse\n",
      "l and cross . This does not apply , however , to Miss Bates ; she is only too g\n",
      "and sufferings of the poor family , however , were the first subject on meeting\n",
      "ting for her . She gained on them , however , involuntarily : the child ' s pac\n",
      "ould close it . It was not closed , however , it still remained ajar ; but by e\n",
      " believes himself secure .\" Still , however , though every thing had not been a\n",
      "ght advance rapidly if they would , however ; they must advance somehow or othe\n",
      " offence came not . The beginning , however , of every visit displayed none but\n",
      "eed !-- and my memory is very bad . However , it was an exceeding good , pretty\n",
      "first day . Emma ' s sense of right however had decided it ; and besides the co\n",
      "le fatigued . I could have wished , however , as you know , that you had seen M\n",
      "\" Our little friend Harriet Smith , however , is just such another pretty kind \n"
     ]
    }
   ],
   "source": [
    "gutenberg_texts.concordance(\"However\")"
   ]
  },
  {
   "cell_type": "markdown",
   "id": "092641f4",
   "metadata": {},
   "source": [
    "## Ex8"
   ]
  },
  {
   "cell_type": "code",
   "execution_count": 142,
   "id": "00314fff",
   "metadata": {},
   "outputs": [],
   "source": [
    "expr = ((fileid[:-3], w[0])\n",
    "for fileid in nltk.corpus.names.fileids()\n",
    "for w in nltk.corpus.names.words(fileid))"
   ]
  },
  {
   "cell_type": "code",
   "execution_count": 143,
   "id": "c8ed7af0",
   "metadata": {},
   "outputs": [],
   "source": [
    "cfd = nltk.ConditionalFreqDist(expr)"
   ]
  },
  {
   "cell_type": "code",
   "execution_count": 144,
   "id": "e8e2874e",
   "metadata": {},
   "outputs": [
    {
     "data": {
      "image/png": "[encoded data removed]",
      "text/plain": [
       "<Figure size 1500x500 with 1 Axes>"
      ]
     },
     "metadata": {},
     "output_type": "display_data"
    },
    {
     "data": {
      "text/plain": [
       "<AxesSubplot: xlabel='Samples', ylabel='Counts'>"
      ]
     },
     "execution_count": 144,
     "metadata": {},
     "output_type": "execute_result"
    }
   ],
   "source": [
    "plt.figure(figsize=(15, 5))\n",
    "cfd.plot()"
   ]
  },
  {
   "cell_type": "code",
   "execution_count": 145,
   "id": "d2c1d878",
   "metadata": {},
   "outputs": [
    {
     "data": {
      "text/plain": [
       "5001"
      ]
     },
     "execution_count": 145,
     "metadata": {},
     "output_type": "execute_result"
    }
   ],
   "source": [
    "len(set(nltk.corpus.names.words(\"female.txt\")))"
   ]
  },
  {
   "cell_type": "code",
   "execution_count": 147,
   "id": "93c6eb69",
   "metadata": {},
   "outputs": [
    {
     "data": {
      "text/plain": [
       "2943"
      ]
     },
     "execution_count": 147,
     "metadata": {},
     "output_type": "execute_result"
    }
   ],
   "source": [
    "len(set(nltk.corpus.names.words(\"male.txt\")))"
   ]
  },
  {
   "cell_type": "markdown",
   "id": "3b7c4d26",
   "metadata": {},
   "source": [
    "## Ex9"
   ]
  },
  {
   "cell_type": "code",
   "execution_count": 150,
   "id": "670e44c0",
   "metadata": {},
   "outputs": [
    {
     "data": {
      "text/plain": [
       "['austen-emma.txt',\n",
       " 'austen-persuasion.txt',\n",
       " 'austen-sense.txt',\n",
       " 'bible-kjv.txt',\n",
       " 'blake-poems.txt',\n",
       " 'bryant-stories.txt',\n",
       " 'burgess-busterbrown.txt',\n",
       " 'carroll-alice.txt',\n",
       " 'chesterton-ball.txt',\n",
       " 'chesterton-brown.txt',\n",
       " 'chesterton-thursday.txt',\n",
       " 'edgeworth-parents.txt',\n",
       " 'melville-moby_dick.txt',\n",
       " 'milton-paradise.txt',\n",
       " 'shakespeare-caesar.txt',\n",
       " 'shakespeare-hamlet.txt',\n",
       " 'shakespeare-macbeth.txt',\n",
       " 'whitman-leaves.txt']"
      ]
     },
     "execution_count": 150,
     "metadata": {},
     "output_type": "execute_result"
    }
   ],
   "source": [
    "nltk.corpus.gutenberg.fileids()"
   ]
  },
  {
   "cell_type": "code",
   "execution_count": 151,
   "id": "96420805",
   "metadata": {},
   "outputs": [],
   "source": [
    "text1 = nltk.Text(nltk.corpus.gutenberg.words(\"bible-kjv.txt\"))"
   ]
  },
  {
   "cell_type": "code",
   "execution_count": 152,
   "id": "225115de",
   "metadata": {},
   "outputs": [],
   "source": [
    "text2 = nltk.Text(nltk.corpus.gutenberg.words(\"austen-emma.txt\"))"
   ]
  },
  {
   "cell_type": "code",
   "execution_count": 155,
   "id": "114343a1",
   "metadata": {},
   "outputs": [
    {
     "data": {
      "text/plain": [
       "13769"
      ]
     },
     "execution_count": 155,
     "metadata": {},
     "output_type": "execute_result"
    }
   ],
   "source": [
    "len(text1.vocab().keys())"
   ]
  },
  {
   "cell_type": "code",
   "execution_count": 156,
   "id": "b0347271",
   "metadata": {},
   "outputs": [
    {
     "data": {
      "text/plain": [
       "7811"
      ]
     },
     "execution_count": 156,
     "metadata": {},
     "output_type": "execute_result"
    }
   ],
   "source": [
    "len(text2.vocab().keys())"
   ]
  },
  {
   "cell_type": "code",
   "execution_count": 159,
   "id": "c7ca6b75",
   "metadata": {},
   "outputs": [
    {
     "data": {
      "text/plain": [
       "0.01362385148626533"
      ]
     },
     "execution_count": 159,
     "metadata": {},
     "output_type": "execute_result"
    }
   ],
   "source": [
    "# vocab richness = uniq words/ total words\n",
    "len(text1.vocab().keys()) / len(text1.tokens)"
   ]
  },
  {
   "cell_type": "code",
   "execution_count": 161,
   "id": "fa1af24a",
   "metadata": {},
   "outputs": [
    {
     "data": {
      "text/plain": [
       "0.04059201671283136"
      ]
     },
     "execution_count": 161,
     "metadata": {},
     "output_type": "execute_result"
    }
   ],
   "source": [
    "len(text2.vocab().keys()) / len(text2.tokens)"
   ]
  },
  {
   "cell_type": "code",
   "execution_count": 162,
   "id": "9c977806",
   "metadata": {},
   "outputs": [
    {
     "name": "stdout",
     "output_type": "stream",
     "text": [
      "Displaying 25 of 215 matches:\n",
      " My punishment is greater than I can bear . 4 : 14 Behold , thou hast driven m\n",
      " 13 : 6 And the land was not able to bear them , that they might dwell togethe\n",
      "hold , thou art with child and shalt bear a son , and shalt call his name Ishm\n",
      "l Sarah , that is ninety years old , bear ? 17 : 18 And Abraham said unto God \n",
      " And God said , Sarah thy wife shall bear thee a son indeed ; and thou shalt c\n",
      "blish with Isaac , which Sarah shall bear unto thee at this set time in the ne\n",
      "laugh , saying , Shall I of a surety bear a child , which am old ? 18 : 14 Is \n",
      "gat Rebekah : these eight Milcah did bear to Nahor , Abraham ' s brother . 22 \n",
      "hah , go in unto her ; and she shall bear upon my knees , that I may also have\n",
      "herein they were strangers could not bear them because of their cattle . 36 : \n",
      "nd set him before thee , then let me bear the blame for ever : 43 : 10 For exc\n",
      "ing him not unto thee , then I shall bear the blame to my father for ever . 44\n",
      "pleasant ; and bowed his shoulder to bear , and became a servant unto tribute \n",
      " easier for thyself , and they shall bear the burden with thee . 18 : 23 If th\n",
      "t not steal . 20 : 16 Thou shalt not bear false witness against thy neighbour \n",
      "rings be for places of the staves to bear the table . 25 : 28 And thou shalt m\n",
      "upon the two sides of the altar , to bear it . 27 : 8 Hollow with boards shalt\n",
      "children of Israel : and Aaron shall bear their names before the LORD upon his\n",
      " the ephod . 28 : 29 And Aaron shall bear the names of the children of Israel \n",
      "in before the LORD : and Aaron shall bear the judgment of the children of Isra\n",
      " Aaron ' s forehead , that Aaron may bear the iniquity of the holy things , wh\n",
      "nister in the holy place ; that they bear not iniquity , and die : it shall be\n",
      "hall be for places for the staves to bear it withal . 30 : 5 And thou shalt ma\n",
      "e rings by the sides of the ark , to bear the ark . 37 : 6 And he made the mer\n",
      "rings , the places for the staves to bear the table . 37 : 15 And he made the \n"
     ]
    }
   ],
   "source": [
    "text1.concordance(\"bear\")"
   ]
  },
  {
   "cell_type": "code",
   "execution_count": 163,
   "id": "998c38f8",
   "metadata": {},
   "outputs": [
    {
     "name": "stdout",
     "output_type": "stream",
     "text": [
      "Displaying 25 of 52 matches:\n",
      "ld never find fault . How was she to bear the change ?-- It was true that her \n",
      "s Taylor live with us for ever , and bear all my odd humours , when she might \n",
      "had never cooled , and who could ill bear to part with her . She knew that at \n",
      "nd spirits that might be hoped would bear her well and happily through its lit\n",
      "s all eat up . His own stomach could bear nothing rich , and he could never be\n",
      ", and that with every disposition to bear , there will be nothing to be borne \n",
      " altogether it was more than I could bear ; and so I never would finish it , t\n",
      "ember , and Mr . Woodhouse could not bear the idea of her stirring out of her \n",
      ". \" Nor , if you were , could I ever bear to part with you , my Harriet . You \n",
      "hink you ever will . Isabella cannot bear to stay behind her husband .\" This w\n",
      " had to tell what every field was to bear next year , and to give all such loc\n",
      "our going to South End . It does not bear talking of .\" And for a little while\n",
      "ound for disappointing us . I cannot bear to imagine any reluctance on his sid\n",
      "urning a corner which he could never bear to think of -- and in strange hands \n",
      "nd not roast it , for no stomach can bear roast pork -- I think we had better \n",
      "s so pleased !-- she says she cannot bear to have the poor old Vicarage withou\n",
      " take cold . Poor girl ! I could not bear the idea of it ; so , as soon as Mr \n",
      "ter ?\" \" Yes , I would . I could not bear to have Henry supplanted .-- Mr . Kn\n",
      "d degrading connexion . How would he bear to have Miss Bates belonging to him \n",
      "pt for Jane ; and I could not at all bear that he should be sending us more , \n",
      " being all sent away . She could not bear that her master should not be able t\n",
      " not . Ah ! he is off . He never can bear to be thanked . But I thought he wou\n",
      " extreme of imprudence . I could not bear it for Emma !-- Emma is not strong .\n",
      " !-- every day making me less fit to bear any other place . Happy those , who \n",
      "with .\" It was as much as Emma could bear , without being impolite . The idea \n"
     ]
    }
   ],
   "source": [
    "text2.concordance(\"bear\")"
   ]
  },
  {
   "cell_type": "code",
   "execution_count": 168,
   "id": "1e61f8e7",
   "metadata": {},
   "outputs": [
    {
     "data": {
      "text/plain": [
       "['austen-emma.txt',\n",
       " 'austen-persuasion.txt',\n",
       " 'austen-sense.txt',\n",
       " 'bible-kjv.txt',\n",
       " 'blake-poems.txt',\n",
       " 'bryant-stories.txt',\n",
       " 'burgess-busterbrown.txt',\n",
       " 'carroll-alice.txt',\n",
       " 'chesterton-ball.txt',\n",
       " 'chesterton-brown.txt',\n",
       " 'chesterton-thursday.txt',\n",
       " 'edgeworth-parents.txt',\n",
       " 'melville-moby_dick.txt',\n",
       " 'milton-paradise.txt',\n",
       " 'shakespeare-caesar.txt',\n",
       " 'shakespeare-hamlet.txt',\n",
       " 'shakespeare-macbeth.txt',\n",
       " 'whitman-leaves.txt']"
      ]
     },
     "execution_count": 168,
     "metadata": {},
     "output_type": "execute_result"
    }
   ],
   "source": [
    "nltk.corpus.gutenberg.fileids()"
   ]
  },
  {
   "cell_type": "code",
   "execution_count": 169,
   "id": "f2469d3c",
   "metadata": {},
   "outputs": [
    {
     "name": "stdout",
     "output_type": "stream",
     "text": [
      "Displaying 11 of 11 matches:\n",
      ". \" Now , Palmer , you shall see a monstrous pretty girl .\" He immediately went\n",
      "your sister is to marry him . I am monstrous glad of it , for then I shall have\n",
      "ou may tell your sister . She is a monstrous lucky girl to get him , upon my ho\n",
      "k how you will like them . Lucy is monstrous pretty , and so good humoured and \n",
      " Jennings , \" I am sure I shall be monstrous glad of Miss Marianne ' s company \n",
      " usual noisy cheerfulness , \" I am monstrous glad to see you -- sorry I could n\n",
      "t however , as it turns out , I am monstrous glad there was never any thing in \n",
      "so scornfully ! for they say he is monstrous fond of her , as well he may . I s\n",
      "possible that she should .\" \" I am monstrous glad of it . Good gracious ! I hav\n",
      "thing of the kind . So then he was monstrous happy , and talked on some time ab\n",
      "e very genteel people . He makes a monstrous deal of money , and they keep thei\n"
     ]
    }
   ],
   "source": [
    "nltk.Text(nltk.corpus.gutenberg.words(\"austen-sense.txt\")).concordance(\"monstrous\")"
   ]
  },
  {
   "cell_type": "code",
   "execution_count": 170,
   "id": "03c6de67",
   "metadata": {},
   "outputs": [
    {
     "name": "stdout",
     "output_type": "stream",
     "text": [
      "Displaying 11 of 11 matches:\n",
      "ong the former , one was of a most monstrous size . ... This came towards us , \n",
      "ON OF THE PSALMS . \" Touching that monstrous bulk of the whale or ork we have r\n",
      "ll over with a heathenish array of monstrous clubs and spears . Some were thick\n",
      "d as you gazed , and wondered what monstrous cannibal and savage could ever hav\n",
      "that has survived the flood ; most monstrous and most mountainous ! That Himmal\n",
      "they might scout at Moby Dick as a monstrous fable , or still worse and more de\n",
      "th of Radney .'\" CHAPTER 55 Of the Monstrous Pictures of Whales . I shall ere l\n",
      "ing Scenes . In connexion with the monstrous pictures of whales , I am strongly\n",
      "ere to enter upon those still more monstrous stories of them which are to be fo\n",
      "ght have been rummaged out of this monstrous cabinet there is no telling . But \n",
      "of Whale - Bones ; for Whales of a monstrous size are oftentimes cast up dead u\n"
     ]
    }
   ],
   "source": [
    "nltk.Text(nltk.corpus.gutenberg.words(\"melville-moby_dick.txt\")).concordance(\"monstrous\")"
   ]
  },
  {
   "cell_type": "markdown",
   "id": "7ae6f88a",
   "metadata": {},
   "source": [
    "## Ex10"
   ]
  },
  {
   "cell_type": "code",
   "execution_count": 213,
   "id": "f5967467",
   "metadata": {},
   "outputs": [],
   "source": [
    "import string"
   ]
  },
  {
   "cell_type": "code",
   "execution_count": 232,
   "id": "cc3a62fd",
   "metadata": {},
   "outputs": [],
   "source": [
    "stopwords = set(nltk.corpus.stopwords.words(\"english\"))\n",
    "punctuation = set(string.punctuation)\n"
   ]
  },
  {
   "cell_type": "code",
   "execution_count": 239,
   "id": "c7aafb02",
   "metadata": {},
   "outputs": [],
   "source": [
    "def nth_of_all_tokens(words, n=0.3):\n",
    "    stopwords = set(nltk.corpus.stopwords.words(\"english\"))\n",
    "    punctuation = set(string.punctuation)\n",
    "    all_words = [w for w in words if w.lower() not in stopwords\n",
    "                 and any(char not in punctuation for char in w)]\n",
    "    \n",
    "    fdist = nltk.FreqDist(all_words)\n",
    "    ordered = fdist.most_common(n=len(fdist))\n",
    "    res = []\n",
    "    total = len(all_words)\n",
    "    target = n*total\n",
    "    cumsum = 0\n",
    "    for el in ordered:\n",
    "        cumsum += el[1]\n",
    "        res.append(el[0])\n",
    "        if cumsum >= target:\n",
    "            break\n",
    "    return res"
   ]
  },
  {
   "cell_type": "code",
   "execution_count": 240,
   "id": "86ce2d42",
   "metadata": {},
   "outputs": [],
   "source": [
    "emma = nltk.corpus.gutenberg.words('austen-emma.txt')"
   ]
  },
  {
   "cell_type": "code",
   "execution_count": 241,
   "id": "214e7a68",
   "metadata": {},
   "outputs": [
    {
     "name": "stdout",
     "output_type": "stream",
     "text": [
      "97 ['Mr', 'Emma', 'could', 'would', 'Mrs', 'Miss', 'must', 'Harriet', 'said', 'much', 'Weston', 'one', 'every', 'thing', 'Knightley', 'Elton', 'think', 'little', 'never', 'good', 'know', 'might', 'well', 'Woodhouse', 'say', 'Jane', 'time', 'quite', 'great', 'Fairfax', 'nothing', 'always', 'man', 'thought', 'Churchill', 'soon', 'see', 'dear', 'may', 'shall', 'without', 'first', 'Frank', 'father', 'sure', 'made', 'like', 'body', 'day', 'young', 'ever', 'Oh', 'indeed', 'friend', 'two', 'though', 'better', 'Hartfield', 'come', 'give', 'way', 'really', 'make', 'Bates', 'rather', 'us', 'long', 'hope', 'done', 'seemed', 'away', 'cannot', 'wish', 'many', 'upon', 'home', 'woman', 'go', 'enough', 'mind', 'Highbury', 'happy', 'even', 'heard', 'moment', 'came', 'last', 'going', 'love', 'room', 'half', 'take', 'look', 'however', 'pleasure', 'felt', 'sort']\n"
     ]
    }
   ],
   "source": [
    "ans = nth_of_all_tokens(emma, n=0.333)\n",
    "print(len(ans), ans)"
   ]
  },
  {
   "cell_type": "code",
   "execution_count": 242,
   "id": "fd2d9c91",
   "metadata": {},
   "outputs": [
    {
     "name": "stdout",
     "output_type": "stream",
     "text": [
      "115 ['Anne', 'could', 'would', 'Captain', 'Mrs', 'Elliot', 'Mr', 'must', 'one', 'Wentworth', 'much', 'Lady', 'good', 'little', 'said', 'Charles', 'might', 'never', 'time', 'think', 'Russell', 'Sir', 'Walter', 'well', 'Mary', 'man', 'nothing', 'Musgrove', 'know', 'Miss', 'see', 'soon', 'father', 'great', 'first', 'two', 'Louisa', 'quite', 'always', 'though', 'without', 'Bath', 'every', 'made', 'long', 'say', 'seemed', 'thought', 'Elizabeth', 'last', 'make', 'may', 'go', 'better', 'found', 'however', 'friend', 'home', 'young', 'many', 'sister', 'like', 'felt', 'family', 'away', 'way', 'ever', 'house', 'Uppercross', 'day', 'give', 'feelings', 'room', 'Harville', 'done', 'Henrietta', 'sure', 'Kellynch', 'still', 'come', 'enough', 'moment', 'Benwick', 'back', 'Smith', 'woman', 'even', 'came', 'Lyme', 'Clay', 'present', 'going', 'Admiral', 'heard', 'mind', 'upon', 'happy', 'another', 'party', 'acquaintance', 'knew', 'something', 'almost', 'rather', 'years', 'half', 'seen', 'morning', 'Croft', 'wish', 'shall', 'yet', 'evening', 'together', 'others']\n"
     ]
    }
   ],
   "source": [
    "ans = nth_of_all_tokens(austen_words, n=0.333)\n",
    "print(len(ans), ans)"
   ]
  },
  {
   "cell_type": "code",
   "execution_count": null,
   "id": "e8b38961",
   "metadata": {},
   "outputs": [],
   "source": []
  }
 ],
 "metadata": {
  "kernelspec": {
   "display_name": "Python 3 (ipykernel)",
   "language": "python",
   "name": "python3"
  },
  "language_info": {
   "codemirror_mode": {
    "name": "ipython",
    "version": 3
   },
   "file_extension": ".py",
   "mimetype": "text/x-python",
   "name": "python",
   "nbconvert_exporter": "python",
   "pygments_lexer": "ipython3",
   "version": "3.9.2"
  }
 },
 "nbformat": 4,
 "nbformat_minor": 5
}
